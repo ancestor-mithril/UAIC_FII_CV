{
 "cells": [
  {
   "cell_type": "markdown",
   "metadata": {
    "collapsed": true,
    "pycharm": {
     "name": "#%% md\n"
    }
   },
   "source": [
    "1. Using a KDTree object and SIFT descriptors extracted from both images, update the fundamental matrix demo to use the mutual nearest neighbor matching approach."
   ]
  },
  {
   "cell_type": "code",
   "execution_count": null,
   "outputs": [],
   "source": [
    "\n",
    "!pip install opencv-contrib-python==4.4.0.44"
   ],
   "metadata": {
    "collapsed": false,
    "pycharm": {
     "name": "#%%\n"
    }
   }
  },
  {
   "cell_type": "markdown",
   "source": [
    "2. Use RANSAC to fine the best linear regression fitting a set of randomly generated samples. Propose an exponential family metric to compute the difference to the model's prediction. Analyse metrics response when varying it's parameters to be less/more sensitive to outliers."
   ],
   "metadata": {
    "collapsed": false
   }
  },
  {
   "cell_type": "markdown",
   "source": [
    "3. Update the RANSAC 8-points algorithm to adaptively determine the number of iterations with respect to the inliers ratio and the number of samples needed to fit the model. Explain your proposal.\n"
   ],
   "metadata": {
    "collapsed": false
   }
  }
 ],
 "metadata": {
  "kernelspec": {
   "display_name": "Python 3",
   "language": "python",
   "name": "python3"
  },
  "language_info": {
   "codemirror_mode": {
    "name": "ipython",
    "version": 2
   },
   "file_extension": ".py",
   "mimetype": "text/x-python",
   "name": "python",
   "nbconvert_exporter": "python",
   "pygments_lexer": "ipython2",
   "version": "2.7.6"
  }
 },
 "nbformat": 4,
 "nbformat_minor": 0
}